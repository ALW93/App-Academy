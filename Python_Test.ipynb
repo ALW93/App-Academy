{
  "nbformat": 4,
  "nbformat_minor": 0,
  "metadata": {
    "colab": {
      "name": "Python_Test.ipynb",
      "provenance": [],
      "collapsed_sections": [],
      "toc_visible": true,
      "authorship_tag": "ABX9TyNUZDrY4YeR/iXzRWN418OA",
      "include_colab_link": true
    },
    "kernelspec": {
      "name": "python3",
      "display_name": "Python 3"
    }
  },
  "cells": [
    {
      "cell_type": "markdown",
      "metadata": {
        "id": "view-in-github",
        "colab_type": "text"
      },
      "source": [
        "<a href=\"https://colab.research.google.com/github/ALW93/App-Academy/blob/master/Python_Test.ipynb\" target=\"_parent\"><img src=\"https://colab.research.google.com/assets/colab-badge.svg\" alt=\"Open In Colab\"/></a>"
      ]
    },
    {
      "cell_type": "markdown",
      "metadata": {
        "id": "9_R2AUaof4_o"
      },
      "source": [
        "# **Study Guide**\n",
        "---\n",
        "\n",
        " \n",
        "\n"
      ]
    },
    {
      "cell_type": "markdown",
      "metadata": {
        "id": "K0PCvYfQopiV"
      },
      "source": [
        "## **Day One**\n",
        "\n",
        "1. **None**\n",
        "  - Same as `null` in Javascript.\n",
        "  - Lack of existence of a value.\n",
        "  - Functions that do not return an explicit value, return `None` by default."
      ]
    },
    {
      "cell_type": "code",
      "metadata": {
        "id": "gvvyGDq1hJMH"
      },
      "source": [
        "def print_hello(name): \n",
        "  \"\"\"\n",
        "  This is a function that says hello but does not explicitly return anything. \n",
        "  \"\"\"\n",
        "  print(f\"Hello, {name}.\")\n",
        "\n",
        "print(print_hello(\"Berber\"))"
      ],
      "execution_count": null,
      "outputs": []
    },
    {
      "cell_type": "markdown",
      "metadata": {
        "id": "3ymggF5bhlDf"
      },
      "source": [
        "2. **Boolean Values**\n",
        "  - Only difference from JS is that you must capitalize `True` and `False`.\n",
        "  - Logical operators read like English.\n",
        "    - && = and\n",
        "    - || = or\n",
        "    - ! = not\n",
        "  - Everything is truthy unless the value is one of the following: \n",
        "    - None\n",
        "    - False\n",
        "    - \"\"\n",
        "    - []\n",
        "    - ()\n",
        "    - set()\n",
        "    - range(0)\n",
        "\n",
        "\n",
        "\n"
      ]
    },
    {
      "cell_type": "code",
      "metadata": {
        "id": "O04x2XZYhpAU"
      },
      "source": [
        "a = True\n",
        "a = true # this will try to use 'true' as a variable rather than a boolean."
      ],
      "execution_count": null,
      "outputs": []
    },
    {
      "cell_type": "markdown",
      "metadata": {
        "id": "IttCFGfzlBd8"
      },
      "source": [
        "3. **Number Values**\n",
        "  - **Integer**\n",
        "    - Non-decimal whole numbers.\n",
        "  - **Float**\n",
        "    - Decimal numbers. \n",
        "  - **Type Casting**\n",
        "    - Process of converting one number type to another number type. \n",
        "    - Note: Python does not automatically convert types like JS does. \n",
        "  - **Arithmetic Operators**\n",
        "    - Same as JS except:\n",
        "    - Math.pow() = ** # For Exponents\n",
        "    - // # For Integer Division"
      ]
    },
    {
      "cell_type": "code",
      "metadata": {
        "id": "7yA5KinFlV-5"
      },
      "source": [
        "print(17.0 + 'and' + 17) # Yields an error\n",
        "print(str(17.0) + 'and' + str(17)) # Is Correct"
      ],
      "execution_count": null,
      "outputs": []
    },
    {
      "cell_type": "markdown",
      "metadata": {
        "id": "hXK117xvl3md"
      },
      "source": [
        "4. **Integer Values**\n",
        "   - Single and double quotes may be used. \n",
        "   - Triple Quotes are also used for multiline, convention is as follows: \n",
        "      - Single Triple used for multiline strings. \n",
        "      - Double Triple used for function docstrings. \n",
        "\n",
        "5. **Length**\n",
        "  - len() used to find the length of a string. "
      ]
    },
    {
      "cell_type": "code",
      "metadata": {
        "id": "jWyM0nOFmQgB"
      },
      "source": [
        "print(len(\"Berber\"))"
      ],
      "execution_count": null,
      "outputs": []
    },
    {
      "cell_type": "markdown",
      "metadata": {
        "id": "1eWBPqO4mTKr"
      },
      "source": [
        "6. **Indexing**\n",
        "  - Python is also zero-based indexing. \n",
        "  - You can use negative indexing to index from the end. \n",
        "  - You can use a range with `[num:num]`; exclusive of end value. \n",
        "  - Indexing past the beginning or end gives an `index error`\n",
        "  - Ranges past the beginning or end do not give errors and can be used to quickly acquire values. \n"
      ]
    },
    {
      "cell_type": "code",
      "metadata": {
        "id": "lJdmZh5Pm2-D"
      },
      "source": [
        "print(\"berber\"[0])\n",
        "print(\"berber\"[-2])\n",
        "print(\"berber\"[1:3])\n",
        "print(\"berber\"[:2])\n",
        "print(\"berber\"[4:])"
      ],
      "execution_count": null,
      "outputs": []
    },
    {
      "cell_type": "markdown",
      "metadata": {
        "id": "5NqT69_BnTb2"
      },
      "source": [
        "7. **String Functions**\n",
        "  - **index**\n",
        "    - Py equivalent of Js indexOf()\n",
        "  - **count**\n",
        "    - used to count how many times a substring appears in a string."
      ]
    },
    {
      "cell_type": "code",
      "metadata": {
        "id": "S4WEhpzhncs_"
      },
      "source": [
        "print(\"Berber\".index(\"b\"))\n",
        "print(\"berber\".count(\"ber\"))"
      ],
      "execution_count": null,
      "outputs": []
    },
    {
      "cell_type": "markdown",
      "metadata": {
        "id": "cEDejUfrnhln"
      },
      "source": [
        "   "
      ]
    },
    {
      "cell_type": "markdown",
      "metadata": {
        "id": "RGMRsSC3nw9w"
      },
      "source": [
        "8. **Concatenation**\n",
        "  - Py uses the + operator just like JS to concatenate strings. \n",
        "  - You can also use the * operator in Python to repeat strings."
      ]
    },
    {
      "cell_type": "code",
      "metadata": {
        "id": "Q90udjB3n6YZ"
      },
      "source": [
        "print(\"ber\" + \"ber\")\n",
        "print(\"ber\" * 10)"
      ],
      "execution_count": null,
      "outputs": []
    },
    {
      "cell_type": "markdown",
      "metadata": {
        "id": "apUKMEMToAAE"
      },
      "source": [
        "9. **Formatting**\n",
        "  - The formatting function is a powerful built in string formatter to quickly populate values into a string.\n",
        "  - Equivalent of the template literal in JS. "
      ]
    },
    {
      "cell_type": "code",
      "metadata": {
        "id": "ubpElun5o2Df"
      },
      "source": [
        "first_name = \"Berber\"\n",
        "last_name = \"Wang\"\n",
        "# function method\n",
        "print(\"My cat's name is {0} {1}\".format(first_name, last_name))\n",
        "# shorthand flag method\n",
        "print(f\"My cat's name is {first_name} {last_name}\")"
      ],
      "execution_count": null,
      "outputs": []
    },
    {
      "cell_type": "markdown",
      "metadata": {
        "id": "CknZPuJopJdX"
      },
      "source": [
        "10. **Useful String Methods**\n",
        "  - **.upper() || .lower()** \n",
        "      - returns string in all caps or all lower\n",
        "  - **.isupper() || .islower()**\n",
        "      - returns boolean to check if string is all caps or all lower.\n",
        "  - **.startswith() || .endswith()**\n",
        "      - checks a string if it starts or ends with a certain substring. \n",
        "  - **.split()**\n",
        "      - splits a string into a list based on a substring passed in as an arg.\n",
        "  - **.isalpha()**\n",
        "      - checks if a string only consists of letters and isn't blank.\n",
        "  - **.isalnum()**\n",
        "      - checks if a string consists of only letters and numbers and isn't blank.\n",
        "  - **.isdecimal()**\n",
        "      - checks if a string consists of only numbers and isn't blank.\n",
        "  - **.isspace()**\n",
        "      - checks if a string consists of only spaces, tabs, and newlines and isn't blank.\n",
        "  - **.istitle()**\n",
        "      - checks if a string only contains words that are capitalized. \n"
      ]
    },
    {
      "cell_type": "markdown",
      "metadata": {
        "id": "rlCQ6HzfqZ74"
      },
      "source": [
        "11. **Variables**\n",
        "  - **Duck Typing** : If it looks like a duck and quacks like a duck, then it must be a duck. \n",
        "      - Concept of Dynamic Typing, where the type or class or an object is less important than the mehthods it defines. \n",
        "      - When duck typing, we are not checking for types at all. \n",
        "      - For example when we use len(), we are checking under the hood if a .__len__() method is defined. \n",
        "  - There are no special assignment keywords in Py.\n",
        "  - Scope is block scoped.\n",
        "  - Variables work like let vars in JS and can be reassigned whenever. \n",
        "  - You can also assignment chain to give multiple variable names the same value. \n",
        "\n"
      ]
    },
    {
      "cell_type": "markdown",
      "metadata": {
        "id": "NCm7ZA7ftSU2"
      },
      "source": [
        "12. **Comparison Operators**\n",
        "  - Python uses the same equality ops as JS.\n",
        "  - Precendence in Python: \n",
        "      - Negative signs (not) will be applied first. \n",
        "      - Then Multiplication and Division (and).\n",
        "      - Then Addition and Subtraction (or).\n",
        "      - Note: Take care using not with ==.\n",
        "\n",
        "  - Python allows short circuiting. \n",
        "      - True and ... Right Side is Evaluated.\n",
        "      - False and ... not evaluated. # Always yields False\n",
        "      - True or ... not evaluated. # Always yields True\n",
        "      - False or ... Right Side is Evaluated."
      ]
    },
    {
      "cell_type": "code",
      "metadata": {
        "id": "uRgZClg5tkL8"
      },
      "source": [
        "a = 2\n",
        "b = 3\n",
        "print(not a == b)\n",
        "# print(a == not b) syntax error\n",
        "print(a == (not b))"
      ],
      "execution_count": null,
      "outputs": []
    },
    {
      "cell_type": "markdown",
      "metadata": {
        "id": "9GlWfB00uZiB"
      },
      "source": [
        "13. **Assignment Operators**\n",
        "  - = is the normal assignment operators. \n",
        "  - = can be appended to all the arithmetic ops as specific assignment ops as well."
      ]
    },
    {
      "cell_type": "markdown",
      "metadata": {
        "id": "uLgwIEckuiwN"
      },
      "source": [
        "14. **Flow-Control Statements: if, while, for**\n",
        "- if-elif-else"
      ]
    },
    {
      "cell_type": "code",
      "metadata": {
        "id": "b4snBIyRu_FU",
        "outputId": "f99764e5-2a62-4cb1-9cb1-86aaac043c3e",
        "colab": {
          "base_uri": "https://localhost:8080/"
        }
      },
      "source": [
        "name = \"Test\"\n",
        "age = 6\n",
        "\n",
        "if name == \"Berber\":\n",
        "  print(\"Hi, Berber\")\n",
        "elif age < 5: \n",
        "  print(\"You're not Berber\")\n",
        "else: \n",
        "  print(\"You are neither Berber nor a young cat\")"
      ],
      "execution_count": 34,
      "outputs": [
        {
          "output_type": "stream",
          "text": [
            "You are neither Berber or a young cat\n"
          ],
          "name": "stdout"
        }
      ]
    },
    {
      "cell_type": "markdown",
      "metadata": {
        "id": "JGn6pv54vaiU"
      },
      "source": [
        "- for loops"
      ]
    },
    {
      "cell_type": "code",
      "metadata": {
        "id": "yilD93cwvcER"
      },
      "source": [
        "# Looping over Strings\n",
        "for char in \"berber\":\n",
        "  print(char)\n",
        "\n",
        "# Looping over Ranges\n",
        "for i in range(1,4):\n",
        "  print(f\"I am Berber number {i}\")\n",
        "\n",
        "# Looping over Lists\n",
        "list = ['apple', 'banana', 'orange']\n",
        "for fruit in list:\n",
        "  print(fruit)\n",
        "\n",
        "# Looping over Dictionaries\n",
        "fruits = {'apple': 'red', 'banana': 'yellow', 'orange': 'orange'}\n",
        "\n",
        "## Get Values\n",
        "\n",
        "for k, v in fruits.items():\n",
        "  print(f'{k}s are {v}')\n",
        "\n",
        "for v in fruits.values():\n",
        "  print(v)\n",
        "\n",
        "for k in fruits.keys():\n",
        "  print(k)\n",
        "\n"
      ],
      "execution_count": null,
      "outputs": []
    },
    {
      "cell_type": "markdown",
      "metadata": {
        "id": "jiONPOr6xjEu"
      },
      "source": [
        "- while, break, and continue\n"
      ]
    },
    {
      "cell_type": "code",
      "metadata": {
        "id": "EhjYyfjWxt4m"
      },
      "source": [
        "snacks = 0\n",
        "while True:\n",
        "  print(\"Here's another snack.\")\n",
        "  snacks += 1\n",
        "  if snacks < 10:\n",
        "    continue\n",
        "  break"
      ],
      "execution_count": null,
      "outputs": []
    },
    {
      "cell_type": "markdown",
      "metadata": {
        "id": "ak65HojQx_Nh"
      },
      "source": [
        "15. **Functions**\n",
        "  - `def` keyword is used to define a function in Python. "
      ]
    },
    {
      "cell_type": "code",
      "metadata": {
        "id": "L2-L8jt40Wcc"
      },
      "source": [
        "# function called with default parameters\n",
        "def greeting(name, saying=\"Hello\"):\n",
        "  print(saying, name)\n",
        "\n",
        "greeting(\"Berber\")\n",
        "greeting(\"Berber\", saying=\"Hola\")"
      ],
      "execution_count": null,
      "outputs": []
    },
    {
      "cell_type": "code",
      "metadata": {
        "id": "zufPi-YO0pYX"
      },
      "source": [
        "# function called with mutable object\n",
        "def addItem(item, bag=[]):\n",
        "  bag.append(item)\n",
        "  return bag\n",
        "\n",
        "print(addItem('wallet'))\n",
        "print(addItem('makeup'))\n",
        "print(addItem('keys'))"
      ],
      "execution_count": null,
      "outputs": []
    },
    {
      "cell_type": "markdown",
      "metadata": {
        "id": "eJt_9rTk1Dvf"
      },
      "source": [
        "16. **Lambdas**\n",
        "  - Anonymous functions are called lambdas in Python.\n",
        "  - They are single python statements.\n",
        "  "
      ]
    },
    {
      "cell_type": "code",
      "metadata": {
        "id": "WhXRlu521KkY"
      },
      "source": [
        "toUpper = lambda string: string.upper()\n",
        "print(toUpper(\"berber\"))"
      ],
      "execution_count": null,
      "outputs": []
    },
    {
      "cell_type": "markdown",
      "metadata": {
        "id": "oKOp0dpZ1ZQo"
      },
      "source": [
        "17. **Errors**\n",
        "  - If you pass the wrong number of arguments you will get a `TypeError`; unlike JS where an error will only be thrown if the min. amount of arguments is not provided. "
      ]
    },
    {
      "cell_type": "markdown",
      "metadata": {
        "id": "4e9-q3mA1sLz"
      },
      "source": [
        "## **Day Two**\n"
      ]
    },
    {
      "cell_type": "markdown",
      "metadata": {
        "id": "HBVD5w0S1u_9"
      },
      "source": [
        "1. **Functions**\n",
        "  - \"*\" : Gets the rest of the positional args as a tuple.\n",
        "  - \"**\" : Gets the rest of the keyword args as a dictionary."
      ]
    },
    {
      "cell_type": "code",
      "metadata": {
        "id": "8-8UrTkh2m22"
      },
      "source": [
        "# variable length positional arguments\n",
        "def add(a, b, *args):\n",
        "  total = a + b\n",
        "  for num in args:\n",
        "    total += num\n",
        "  return total\n",
        "\n",
        "print(add(1, 2))\n",
        "print (add(1, 2, -5, 23, 12))"
      ],
      "execution_count": null,
      "outputs": []
    },
    {
      "cell_type": "code",
      "metadata": {
        "id": "JeIGLWO722Sn"
      },
      "source": [
        "# variable length keyword arguments\n",
        "def print_names_and_ages(**kwargs):\n",
        "  for k, v in kwargs.items():\n",
        "    print(f\"This is {k} and he's {v} years old!\")\n",
        "\n",
        "print_names_and_ages(Berber=5, XiaoHuang=3)"
      ],
      "execution_count": null,
      "outputs": []
    },
    {
      "cell_type": "markdown",
      "metadata": {
        "id": "1PWxQG7C4Lkf"
      },
      "source": [
        "2. **Lists**\n",
        "  - Lists are just mutable arrays.\n",
        "  - Inititated with square brackets.\n",
        "  - list() built in function can be used to initiate a list as well.\n",
        "  - `in` keyword Py equivalent of `includes` in JS."
      ]
    },
    {
      "cell_type": "code",
      "metadata": {
        "id": "FbZheHU-4OKK"
      },
      "source": [
        "print('apple' in ['apple', 'orange', 'peach'])\n",
        "print('banana' in ['apple', 'orange', 'peach'])"
      ],
      "execution_count": null,
      "outputs": []
    },
    {
      "cell_type": "markdown",
      "metadata": {
        "id": "SsCFbsGK4jzm"
      },
      "source": [
        "3. **Dictionaries**\n",
        "  - Python equivalent of JS POJOs\n",
        "  - Initiated with curly braces and key:value pairs.\n",
        "  - dict() built in function can be used to initiate a dict as well. \n",
        "  - `in` keyword can also be used with Dictionaries.\n"
      ]
    },
    {
      "cell_type": "code",
      "metadata": {
        "id": "Qxjhlo6H4t7n"
      },
      "source": [
        "print(1 in {1: \"a\", 2: \"b\"})\n",
        "print(\"a\" in {1: \"a\", 2: \"b\"}) # False, looking for key named \"a\""
      ],
      "execution_count": null,
      "outputs": []
    },
    {
      "cell_type": "markdown",
      "metadata": {
        "id": "IV5zjnvu5G9S"
      },
      "source": [
        "4. **Sets**\n",
        "  - Similar to sets in JS, Py sets are unordered collections of distinct objects. \n",
        "  - Initiated with curly braces.\n",
        "  - set() built in method can be used to initiate as well. \n",
        "  - `in` keyword can also be used. "
      ]
    },
    {
      "cell_type": "markdown",
      "metadata": {
        "id": "Gxppd2N35YJn"
      },
      "source": [
        "5. **Tuples**\n",
        "  - Tuples are immutable lists of items. \n",
        "  - Can be contained in parenthesis and without.\n",
        "  - tuple() built in can be used to create tuples\n",
        "  - `in` keyword can be used."
      ]
    },
    {
      "cell_type": "code",
      "metadata": {
        "id": "_528V7955lDF"
      },
      "source": [
        "colors = ('pink', 'green')\n",
        "cats = 'Berber', 'XiaoHuang'\n",
        "tuple('abc') # returns ('a', 'b', 'c')\n",
        "tuple([1, 2, 3]) # returns (1, 2, 3); example of coercing a list into a tuple\n"
      ],
      "execution_count": null,
      "outputs": []
    },
    {
      "cell_type": "markdown",
      "metadata": {
        "id": "di65RpsY5_L0"
      },
      "source": [
        "6. **Ranges**\n",
        "  - Immutable list of numbers where the order cannot be changed.\n",
        "  - Most often used with for loops.\n",
        "  - Has one to three parameters:\n",
        "    1. start (opt. def: 0, first num in seq)\n",
        "    2. stop (required)\n",
        "    3. end (opt. def: 1, steps between numbers)"
      ]
    },
    {
      "cell_type": "code",
      "metadata": {
        "id": "KzLZgakD6JX4"
      },
      "source": [
        "  range(5)\n",
        "  range(1, 5)\n",
        "  range (0, 25, 5)\n",
        "\n",
        "  for i in range(0, 25, 5):\n",
        "    print(i)"
      ],
      "execution_count": null,
      "outputs": []
    },
    {
      "cell_type": "markdown",
      "metadata": {
        "id": "sEXqvAi_68kE"
      },
      "source": [
        "7. **Built-In Functions**\n"
      ]
    },
    {
      "cell_type": "markdown",
      "metadata": {
        "id": "nc5YF2Cb6_d4"
      },
      "source": [
        "- **filter**"
      ]
    },
    {
      "cell_type": "code",
      "metadata": {
        "id": "uTn0daA77EjB"
      },
      "source": [
        "def isOdd(num):\n",
        "  return num % 2\n",
        "\n",
        "numbers = [1, 2, 3, 4]\n",
        "\n",
        "odds = filter(isOdd, numbers)\n",
        "print(list(odds))\n",
        "\n",
        "result = [odd for odd in odds]\n",
        "print(result)\n",
        "# list comprehension\n"
      ],
      "execution_count": null,
      "outputs": []
    },
    {
      "cell_type": "markdown",
      "metadata": {
        "id": "o-TfSRE79uBc"
      },
      "source": [
        "- **map**"
      ]
    },
    {
      "cell_type": "code",
      "metadata": {
        "id": "JpbCTdRr9vQs"
      },
      "source": [
        "def toUpper(str):\n",
        "  return str.upper()\n",
        "\n",
        "upperCase = map(toUpper, ['a', 'hello', 'apple'])\n",
        "\n",
        "for word in upperCase:\n",
        "  print(word)"
      ],
      "execution_count": null,
      "outputs": []
    },
    {
      "cell_type": "markdown",
      "metadata": {
        "id": "_fcARx_597uO"
      },
      "source": [
        "- **sorted**\n",
        "    - method to sort an iterable.\n",
        "    - parameters:\n",
        "        1. iterable (Required)\n",
        "        2. key (opt. func used to execute the deciding order; def; none)\n",
        "        3. reverse (opt. def: false; true for descending order)"
      ]
    },
    {
      "cell_type": "code",
      "metadata": {
        "id": "r7-j8cWV99AG"
      },
      "source": [
        "items = [\"apple\", \"Banana\", \"cat\"]\n",
        "\n",
        "# add the key=str.upper to make sure casing issues don't arise since capital letters come earlier in ASCII.\n",
        "print(sorted(items, key=str.upper, reverse=True))\n",
        "print(items[0].title())"
      ],
      "execution_count": null,
      "outputs": []
    },
    {
      "cell_type": "markdown",
      "metadata": {
        "id": "NGpovnmSBLUh"
      },
      "source": [
        "- **enumerate**\n",
        "    - built in that adds a counter to an iterable and returns it in the form of an enumerate object.\n",
        "    - returned object can be used in for loops or converted into a list of tuples using the list() method. "
      ]
    },
    {
      "cell_type": "code",
      "metadata": {
        "id": "Va-aKY_WBegA"
      },
      "source": [
        "fruits = ['apple', 'peach', 'banana']\n",
        "print(list(enumerate(fruits, start=3)))\n",
        "# [(3, 'apple'), (4, 'peach'), (5, 'banana')]\n",
        "\n",
        "# works in 3.8 "
      ],
      "execution_count": null,
      "outputs": []
    },
    {
      "cell_type": "markdown",
      "metadata": {
        "id": "fXEgt829CmZK"
      },
      "source": [
        "- **zip**\n",
        "    - returns a zip object which is an iterator of tuples.\n",
        "    - the iterator with the least # of items decides the length of the new iterator. "
      ]
    },
    {
      "cell_type": "code",
      "metadata": {
        "id": "XqS86cnWEtKV"
      },
      "source": [
        "fruits = [\"apple\", \"peach\", \"banana\"]\n",
        "colors = [\"red\", \"pink\"]\n",
        "\n",
        "paired = zip(fruits, colors)\n",
        "\n",
        "print(list(paired))\n",
        "# [('apple', 'red'), ('peach', 'pink')]"
      ],
      "execution_count": null,
      "outputs": []
    },
    {
      "cell_type": "markdown",
      "metadata": {
        "id": "acfFU2F9E_yx"
      },
      "source": [
        "- **len**\n",
        "  - returns length of an iterable.\n",
        "\n",
        "- **max**\n",
        "  - returns maximum value of an iterable.\n",
        "\n",
        "- **min** \n",
        "  - returns minimum value of an iterable.\n",
        "\n",
        "- **any**\n",
        "  - function that takes in an iterable and checks to see if any of the items are truthy. \n",
        "\n",
        "- **all**\n",
        "  - function that takes in an iterable and checks to see if all of the items are truthy. \n",
        "\n",
        "- **dir**\n",
        "  - returns all the attributes of an object including it's methods and dunder methods. "
      ]
    },
    {
      "cell_type": "code",
      "metadata": {
        "id": "xy7r5CCdFdaR"
      },
      "source": [
        "cat = { 'name': 'berber', 'email': 'berber@hotmail.com'}\n",
        "\n",
        "dir(cat)"
      ],
      "execution_count": null,
      "outputs": []
    },
    {
      "cell_type": "markdown",
      "metadata": {
        "id": "rrXWv85XFpsw"
      },
      "source": [
        "8. **Importing Packages and Modules**\n",
        "  - **Module** : Python term for code in a file `or` directory.\n",
        "  - **Package** : Module that is a `directory` and contains a `__init__.py` file.\n",
        "  - **Submodule** : Module contained within a package.\n",
        "  - **Name** : Exported function, class, or variable in a module.\n",
        "  - Note: All Packages and SubModules are Modules, not all Modules are Packages or SubModules.\n",
        "  - Modules be default export all names without having to use any special keywords like `export` in JS. \n"
      ]
    },
    {
      "cell_type": "code",
      "metadata": {
        "id": "0696tiHIGoE4"
      },
      "source": [
        "# Example package\n",
        "math\n",
        "| __init.py\n",
        "| addition.py\n",
        "  def add(num1, num2):\n",
        "    return num1 + num2\n",
        "| subtraction.py"
      ],
      "execution_count": null,
      "outputs": []
    },
    {
      "cell_type": "code",
      "metadata": {
        "id": "kB5N__a5G0Og"
      },
      "source": [
        "# What our __init__.py looks like\n",
        "from .addition import add\n",
        "from .subtraction import subtract\n",
        "# Note the . syntax because this package is importing it's own submodules."
      ],
      "execution_count": null,
      "outputs": []
    },
    {
      "cell_type": "code",
      "metadata": {
        "id": "WrMYf19yHBoC"
      },
      "source": [
        "# Examples of imports in other parts of our program\n",
        "# import entire math package\n",
        "import math\n",
        "print(math.add(1, 2)) \n",
        "\n",
        "# import name from package\n",
        "from math import add\n",
        "print(add(1, 2)) \n",
        "\n",
        "# import name from submodule\n",
        "from math.addition import add\n",
        "print(add(1, 2))\n",
        "\n",
        "# import multiple names from package\n",
        "from math import add, subtract\n",
        "print(add(1, 2))\n",
        "print(subtract(2, 1))\n",
        "\n",
        "# import name from package and give it new name\n",
        "from math import add as addSomeNumbers\n",
        "print(addSomeNumbers(1, 2))"
      ],
      "execution_count": null,
      "outputs": []
    },
    {
      "cell_type": "markdown",
      "metadata": {
        "id": "BK1sgmm5H0tb"
      },
      "source": [
        "## **Day Three**\n",
        "\n"
      ]
    },
    {
      "cell_type": "markdown",
      "metadata": {
        "id": "Fc8ZZ2hAH91_"
      },
      "source": [
        "- **Classes, Methods, and Properties**"
      ]
    }
  ]
}